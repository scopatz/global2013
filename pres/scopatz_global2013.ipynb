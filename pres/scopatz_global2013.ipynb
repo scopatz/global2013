{
 "metadata": {
  "name": ""
 },
 "nbformat": 3,
 "nbformat_minor": 0,
 "worksheets": [
  {
   "cells": [
    {
     "cell_type": "markdown",
     "metadata": {
      "slideshow": {
       "slide_type": "slide"
      }
     },
     "source": [
      "<div style=\"text-align:center\">\n",
      "<h1>A Dynamic, Dependent Type System for Nuclear Fuel Cycle Code Generation</h1>\n",
      "<h2>Global 2013</h2>\n",
      "</div>\n",
      "<div style=\"text-align:center\">Anthony Michael Scopatz</div>\n",
      "<div style=\"text-align:center\">The University of Wisconsin-Madison, NumFOCUS</div>\n",
      "<div style=\"text-align:center\">Salt Lake City, UT, October 2nd, 2013</div>"
     ]
    },
    {
     "cell_type": "code",
     "collapsed": false,
     "input": [
      "import os\n",
      "import sys\n",
      "import shutil\n",
      "import numpy as np\n",
      "import matplotlib\n",
      "import collections\n",
      "matplotlib.rc('font', family='serif', size=16)\n",
      "import matplotlib.pyplot as plt\n",
      "from IPython.display import *\n",
      "from utils import htmltable\n",
      "from pprint import pprint\n",
      "from bright import bright_conf\n",
      "bright_conf.write_hdf5 = bright_conf.write_text = False\n",
      "bright_conf.track_nucs = set([\"U235\", \"U238\", \"Am242\"])"
     ],
     "language": "python",
     "metadata": {
      "slideshow": {
       "slide_type": "skip"
      }
     },
     "outputs": [],
     "prompt_number": 1
    },
    {
     "cell_type": "markdown",
     "metadata": {
      "slideshow": {
       "slide_type": "slide"
      }
     },
     "source": [
      "## Motivation\n",
      "\n",
      "It is *highly* desirable to leverage (facility) models from multiple different fuel cycle simulators.\n",
      "\n",
      "Translating between agent based models and execution paradigms is painful, tedious."
     ]
    },
    {
     "cell_type": "markdown",
     "metadata": {
      "slideshow": {
       "slide_type": "fragment"
      }
     },
     "source": [
      "## Approach\n",
      "\n",
      "Automatic code generation & translation may ease translation from one simulator to another."
     ]
    },
    {
     "cell_type": "markdown",
     "metadata": {
      "slideshow": {
       "slide_type": "skip"
      }
     },
     "source": [
      "## Cheat Sheet\n",
      "\n",
      "**Center:**  ``<div style=\"text-align:center;\"></div>``\n",
      "    \n",
      "**Right:**   ``<div style=\"text-align:right;\"></div>``\n",
      "    \n",
      "**Center H3:**  ``<div style=\"text-align:center;\"><h3></h3></div>``\n",
      "\n",
      "**Right H3:**  ``<div style=\"text-align:right;\"><h3></h3></div>``\n",
      "    \n",
      "**Center Image:**  ``<div style=\"text-align:center;\"><img src=\"\" width=\"80%\" /></div>``"
     ]
    },
    {
     "cell_type": "markdown",
     "metadata": {
      "slideshow": {
       "slide_type": "slide"
      }
     },
     "source": [
      "## Pain Points in Simulator Model Exchange\n",
      "\n",
      "* Agent Ambiquity \n",
      "* Resource Conversion\n",
      "* Model Fidelity \n",
      "* Execution Paradigms\n",
      "\n",
      "None of these issues are irreconcilable."
     ]
    },
    {
     "cell_type": "markdown",
     "metadata": {
      "slideshow": {
       "slide_type": "slide"
      }
     },
     "source": [
      "## Agent Ambiquity\n",
      "\n",
      "Agents are built to adhere to a particular simulator's interface.  \n",
      "\n",
      "Most of the value in a given agent is in the implemenation.  This is where the blood, sweat, and research was spent.\n",
      "\n",
      "Last mile effect: `B.copy()` and `C.Clone()` may mean the same thing but their spelling is different.\n",
      "\n",
      "Different simulators answer the question of \"*What does it mean to be an agent?*\" in very different ways."
     ]
    },
    {
     "cell_type": "markdown",
     "metadata": {
      "slideshow": {
       "slide_type": "slide"
      }
     },
     "source": [
      "## Resource Conversion\n",
      "\n",
      "Even with ambiquity, facility agents are fundementally responsible for providing and accepting resources.  \n",
      "\n",
      "However, the representation of like resources may also vary from simulator to simulator.\n",
      "\n",
      "Materials, for example, may differ in nuclide naming scheme (92235, \"U-235\") or whether they assume a mass or atom basis."
     ]
    },
    {
     "cell_type": "markdown",
     "metadata": {
      "slideshow": {
       "slide_type": "slide"
      }
     },
     "source": [
      "<script type=\"text/javascript\">\n",
      "\twindow.onload=function(){\n",
      "\tvar tfrow = document.getElementById('modapptable').rows.length;\n",
      "\tvar tbRow=[];\n",
      "\tfor (var i=1;i<tfrow;i++) {\n",
      "\t\ttbRow[i]=document.getElementById('modapptable').rows[i];\n",
      "\t\ttbRow[i].onmouseover = function(){\n",
      "\t\t  this.style.backgroundColor = '#f3f8aa';\n",
      "\t\t};\n",
      "\t\ttbRow[i].onmouseout = function() {\n",
      "\t\t  this.style.backgroundColor = '#ffffff';\n",
      "\t\t};\n",
      "\t}\n",
      "};\n",
      "</script>\n",
      "<style type=\"text/css\">\n",
      "table.tftable {color:#333333;width:80%;border-width: 1px;border-color: #a9a9a9;border-collapse: collapse;text-align:center; margin: auto;}\n",
      "table.tftable th {background-color:#b8b8b8;border-width: 1px;padding: 4px;border-style: solid;border-color:#a9a9a9;text-align:left;}\n",
      "table.tftable tr {background-color:#ffffff;text-align:center;}\n",
      "table.tftable td {border-width: 1px;padding: 4px;border-style: solid;border-color: #a9a9a9;text-align:center;}\n",
      "</style>\n",
      "\n",
      "## Modeling Fidelity\n",
      "\n",
      "Syncing up models of varying fidelity may also prove challenging if resource conversion was not handled appropriately.\n",
      "\n",
      "<div style=\"text-align:center;\"><img src=\"basic_nfc_schema.svg\" /></div>\n",
      "\n",
      "<table id=\"modapptable\" class=\"tftable\" border=\"1\">\n",
      "<tr><th>Component</th><th>Low</th><th>Medium</th><th>High</th></tr>\n",
      "<tr><td style=\"text-align:left;\"><b>Front End:</b></td><td>Recipes</td><td>Physics Models</td><td>Physics Models</td></tr>\n",
      "<tr><td style=\"text-align:left;\"><b>Reactor:</b></td><td>Recipes</td><td>Rapid Burnup Code (<font style=\"color:red;\">Bright</font>)</td><td>Neutron Transport</td></tr>\n",
      "<tr><td style=\"text-align:left;\"><b>Repository:</b></td><td>Curve Fits</td><td>Rapid Code (<font style=\"color:red;\">Cyder</font>)</td><td>Neutron Transport</td></tr>\n",
      "</table>"
     ]
    },
    {
     "cell_type": "markdown",
     "metadata": {
      "slideshow": {
       "slide_type": "slide"
      }
     },
     "source": [
      "## Execution Paradigms\n",
      "\n",
      "Finally, how agents execute their solvers must be resolved when connecting simulators.\n",
      "\n",
      "Questions arrise about the discreteness of resources and facilities and how time is modeled.\n",
      "\n",
      "How are inputs to facilities specified?\n",
      "\n",
      "How are fuel cycles written?"
     ]
    },
    {
     "cell_type": "markdown",
     "metadata": {
      "slideshow": {
       "slide_type": "slide"
      }
     },
     "source": [
      "## What is the Big Idea?\n",
      "\n",
      "The goal is to:\n",
      "\n",
      "* write a translation layer from one simulator to another *once*, \n",
      "\n",
      "* template this layer, and \n",
      "\n",
      "* apply this template to all fuel cycle facilities.\n",
      "\n",
      "This is done using xdress, a suite of code generation routines built on top of a dynamic type system."
     ]
    },
    {
     "cell_type": "markdown",
     "metadata": {
      "slideshow": {
       "slide_type": "fragment"
      }
     },
     "source": [
      "## Motivation\n",
      "\n",
      "* First class C++ support\n",
      "* Deep access to the type system\n",
      "* A multitude of front ends (currently Bright-to-Python)"
     ]
    },
    {
     "cell_type": "markdown",
     "metadata": {
      "slideshow": {
       "slide_type": "slide"
      }
     },
     "source": [
      "## What XDress Is"
     ]
    },
    {
     "cell_type": "markdown",
     "metadata": {
      "slideshow": {
       "slide_type": "skip"
      }
     },
     "source": [
      "Created via [this link](http://interactive.blockdiag.com/?compression=deflate&src=eJyr5lJQUHIM8FRwy8xLSS1SUoguLqnMSVWwVUhJLM5ITYm1BioISCwqTi0qVtC1Q1UL5geHKIRlFmeW5EMFnPNTUhXcU_NSixKBYsVK1ly1AOqXHj4)."
     ]
    },
    {
     "cell_type": "markdown",
     "metadata": {},
     "source": [
      "<div style=\"text-align:center;\"><img src=\"workflow.svg\" /></div>"
     ]
    },
    {
     "cell_type": "markdown",
     "metadata": {
      "slideshow": {
       "slide_type": "fragment"
      }
     },
     "source": [
      "## What XDress Is Not\n",
      "\n",
      "* **Parser**\n",
      "* **Compiler**\n",
      "* **Build System**"
     ]
    },
    {
     "cell_type": "markdown",
     "metadata": {
      "slideshow": {
       "slide_type": "slide"
      }
     },
     "source": [
      "## Type System\n",
      "\n",
      "* Since we are not doing any parsing or compiling, the type system doesn't need to know the concrete size of any types."
     ]
    },
    {
     "cell_type": "markdown",
     "metadata": {
      "slideshow": {
       "slide_type": "fragment"
      }
     },
     "source": [
      "* Rather the type system is a convient, consistent, and complete way to *spell* type names!"
     ]
    },
    {
     "cell_type": "markdown",
     "metadata": {
      "slideshow": {
       "slide_type": "fragment"
      }
     },
     "source": [
      "* Type names are composed of immutable Python types:\n",
      "    \n",
      "    * ``str``\n",
      "    * ``tuple``\n",
      "    * ``int``\n",
      "    * ``TypeMatcher``"
     ]
    },
    {
     "cell_type": "markdown",
     "metadata": {
      "slideshow": {
       "slide_type": "slide"
      }
     },
     "source": [
      "## Kinds of Types\n",
      "\n",
      "As a brief diversion into type theory, xdress supports:\n",
      "    \n",
      "<div style=\"text-align:center;\"><h3>Base Types</h3></div><br/>\n",
      "\n",
      "<div style=\"text-align:center;\"><h3>Dependent Types</h3></div><br/>\n",
      "\n",
      "<div style=\"text-align:center;\"><h3>Refinement Types</h3></div><br/>"
     ]
    },
    {
     "cell_type": "markdown",
     "metadata": {
      "slideshow": {
       "slide_type": "slide"
      }
     },
     "source": [
      "## Base Types\n",
      "\n",
      "Base types are the normal primitive types that we all know and lovehate.  \n",
      "\n",
      "These are represented by ``str``.  \n",
      "\n",
      "Classes and structs also become base types."
     ]
    },
    {
     "cell_type": "code",
     "collapsed": false,
     "input": [
      "from xdress.typesystem import TypeSystem\n",
      "print(TypeSystem().base_types)"
     ],
     "language": "python",
     "metadata": {},
     "outputs": [
      {
       "output_type": "stream",
       "stream": "stdout",
       "text": [
        "set(['uint64', 'int32', 'exception', 'int16', 'file', 'float64', 'uchar', 'void', 'uint128', 'complex128', 'char', 'uint16', 'int64', 'str', 'int128', 'float128', 'bool', 'type', 'uint32', 'float32'])\n"
       ]
      }
     ],
     "prompt_number": 2
    },
    {
     "cell_type": "markdown",
     "metadata": {
      "slideshow": {
       "slide_type": "slide"
      }
     },
     "source": [
      "## Dependent Types\n",
      "\n",
      "Dependent types are parameterized by static values *or* types!"
     ]
    },
    {
     "cell_type": "markdown",
     "metadata": {
      "slideshow": {
       "slide_type": "fragment"
      }
     },
     "source": [
      "These are used to represent templated types in C++."
     ]
    },
    {
     "cell_type": "markdown",
     "metadata": {
      "slideshow": {
       "slide_type": "fragment"
      }
     },
     "source": [
      "They are spelled with ``tuple``s."
     ]
    },
    {
     "cell_type": "code",
     "collapsed": false,
     "input": [
      "set_of_strings = ('set', 'str')\n",
      "map_int_double = ('map', 'int32', 'float64')"
     ],
     "language": "python",
     "metadata": {
      "slideshow": {
       "slide_type": "fragment"
      }
     },
     "outputs": [],
     "prompt_number": 3
    },
    {
     "cell_type": "markdown",
     "metadata": {
      "slideshow": {
       "slide_type": "slide"
      }
     },
     "source": [
      "## Refined Types\n",
      "\n",
      "Refined types are defined such that all of their elements are subset of another type.  "
     ]
    },
    {
     "cell_type": "markdown",
     "metadata": {
      "slideshow": {
       "slide_type": "fragment"
      }
     },
     "source": [
      "They are specified by the refinement type name, the super type name, and a predicate."
     ]
    },
    {
     "cell_type": "markdown",
     "metadata": {
      "slideshow": {
       "slide_type": "fragment"
      }
     },
     "source": [
      "__Examples:__\n",
      "    \n",
      "* Even integers are a refinement of ``int32``"
     ]
    },
    {
     "cell_type": "markdown",
     "metadata": {
      "slideshow": {
       "slide_type": "fragment"
      }
     },
     "source": [
      "* Strings which begin with \"A\" are a refinement of ``str``"
     ]
    },
    {
     "cell_type": "markdown",
     "metadata": {
      "slideshow": {
       "slide_type": "fragment"
      }
     },
     "source": [
      "* ``set([\"Awesome\", \"As\", \"Anthony\"])`` is a refinement of \"A\" strings"
     ]
    },
    {
     "cell_type": "markdown",
     "metadata": {
      "slideshow": {
       "slide_type": "slide"
      }
     },
     "source": [
      "## Refined Types\n",
      "\n",
      "These may be spelled with ``str`` or the (super type, type name) ``tuple``s."
     ]
    },
    {
     "cell_type": "code",
     "collapsed": false,
     "input": [
      "type_name = 'evenint'\n",
      "final_form = ('int32', 'evenint')"
     ],
     "language": "python",
     "metadata": {
      "slideshow": {
       "slide_type": "fragment"
      }
     },
     "outputs": [],
     "prompt_number": 4
    },
    {
     "cell_type": "markdown",
     "metadata": {
      "slideshow": {
       "slide_type": "fragment"
      }
     },
     "source": [
      "## Refined Dependent Types\n",
      "\n",
      "Recall that dependent types are fully composable with other types."
     ]
    },
    {
     "cell_type": "code",
     "collapsed": false,
     "input": [
      "int_range = ('range', 'int32', 1, 42)\n",
      "even_int_range = ('range', ('int32', 'evenint'), 1, 42)\n",
      "too_much_fun = ('map', 'evenint', ('range', ('int32', 'evenint'), 1, 42))"
     ],
     "language": "python",
     "metadata": {
      "slideshow": {
       "slide_type": "fragment"
      }
     },
     "outputs": [],
     "prompt_number": 5
    },
    {
     "cell_type": "markdown",
     "metadata": {
      "slideshow": {
       "slide_type": "slide"
      }
     },
     "source": [
      "## And More!\n",
      "\n",
      "* What you have seen so far is the shorthand form.  "
     ]
    },
    {
     "cell_type": "markdown",
     "metadata": {
      "slideshow": {
       "slide_type": "fragment"
      }
     },
     "source": [
      "* There is also a canonical form: ``ts.canon(t)``"
     ]
    },
    {
     "cell_type": "markdown",
     "metadata": {
      "slideshow": {
       "slide_type": "fragment"
      }
     },
     "source": [
      "* There are aliases: ``ts.canon('f8') == 'float64'``"
     ]
    },
    {
     "cell_type": "markdown",
     "metadata": {
      "slideshow": {
       "slide_type": "fragment"
      }
     },
     "source": [
      "* Standard refined & dependent types built-in:\n",
      "    \n",
      "    * **templates:** ``pair``, ``set``, ``map``, ``vector``\n",
      "    * **refinements:** ``enum``, ``fucntion``, ``function_pointer``"
     ]
    },
    {
     "cell_type": "markdown",
     "metadata": {
      "slideshow": {
       "slide_type": "fragment"
      }
     },
     "source": [
      "* There is also a ``TypeMatcher`` class - inspired by ``re`` - which may replace any type or portion of a type."
     ]
    },
    {
     "cell_type": "markdown",
     "metadata": {
      "slideshow": {
       "slide_type": "slide"
      }
     },
     "source": [
      "## API Descriptions\n",
      "\n",
      "Code is generated from descriptions of agents (C++ classes) to produce idomatic wrappers."
     ]
    },
    {
     "cell_type": "code",
     "collapsed": false,
     "input": [
      "storage_fac = {\n",
      "    'attrs': {'decay_time': 'float64'},\n",
      "    'construct': 'class',\n",
      "    'methods': {('Storage', ('n', 'str', '\"\"')): None,\n",
      "                ('calc',): 'Material',\n",
      "                ('calc', ('incomp', ('map', 'int32', 'float64'))): 'Material',\n",
      "                ('calc', ('incomp', ('map', 'int32', 'float64')), \n",
      "                                    ('t', 'float64')): 'Material',\n",
      "                ('calc', ('mat', 'Material')): 'Material',\n",
      "                ('calc', ('mat', 'Material'), ('t', 'float64')): 'Material',\n",
      "                ('calc', ('t', 'float64')): 'Material',\n",
      "                ('calc_params',): 'void',\n",
      "                ('~Storage',): None},\n",
      "    'name': 'Storage',\n",
      "    'namespace': 'bright',\n",
      "    'parents': ['FCComp']}"
     ],
     "language": "python",
     "metadata": {
      "slideshow": {
       "slide_type": "fragment"
      }
     },
     "outputs": [],
     "prompt_number": 6
    },
    {
     "cell_type": "markdown",
     "metadata": {
      "slideshow": {
       "slide_type": "slide"
      }
     },
     "source": [
      "## Generated Code\n",
      "\n",
      "Cython code is generated from this description for the Bright-to-Python layer.  C++ code will be generated code for the Bright-to-Cyclus layer.\n",
      "\n",
      "```bash\n",
      "cdef class Storage(fccomp.FCComp):\n",
      "    \"\"\"Storage Fuel Cycle Component Class.  Daughter of FCComp class.\"\"\"\n",
      "\n",
      "    # constuctors\n",
      "    def __init__(self, n=\"\"):\n",
      "        \"\"\"Storage(self, n=\"\")\"\"\"\n",
      "        cdef char * n_proxy\n",
      "        n_bytes = n.encode()\n",
      "        self._inst = new cpp_storage.Storage(std_string(<char *> n_bytes))\n",
      "\n",
      "    # attributes\n",
      "    property decay_time:\n",
      "        \"\"\"This the float (double) attribute that represents how long an input fuel \n",
      "        mass should be stored for.\"\"\"\n",
      "        def __get__(self):\n",
      "            return float((<cpp_storage.Storage *> self._inst).decay_time)\n",
      "\n",
      "        def __set__(self, value):\n",
      "            (<cpp_storage.Storage *> self._inst).decay_time = <double> value\n",
      "```"
     ]
    },
    {
     "cell_type": "markdown",
     "metadata": {
      "slideshow": {
       "slide_type": "slide"
      }
     },
     "source": [
      "## Executing the Simulator\n",
      "\n",
      "This actually works!\n",
      "\n",
      "#### Storage:"
     ]
    },
    {
     "cell_type": "code",
     "collapsed": false,
     "input": [
      "from bright.storage import Storage\n",
      "storage = Storage(n=\"my_storage\")\n",
      "storage.mat_feed = {922350: 0.045, 922380: 0.955}\n",
      "print storage.calc(t=708e6 * 365.25 * 24 * 3600 )"
     ],
     "language": "python",
     "metadata": {
      "slideshow": {
       "slide_type": "-"
      }
     },
     "outputs": [
      {
       "output_type": "stream",
       "stream": "stdout",
       "text": [
        "Material:\n",
        "mass = 0.877993757861\n",
        "density= -1.0\n",
        "atoms per molecule = -1.0\n",
        "-------------------------\n",
        "U235   0.0255086391499\n",
        "U238   0.97449136085\n"
       ]
      }
     ],
     "prompt_number": 7
    },
    {
     "cell_type": "code",
     "collapsed": false,
     "input": [
      "def storfig():\n",
      "    times = np.linspace(0.0, 10.0, 100)\n",
      "    u235 = []\n",
      "    u238 = []\n",
      "    for t in times:\n",
      "        out = storage.calc(t=708e6 * 365.25 * 24 * 3600 * t)\n",
      "        u235.append(out[922350])\n",
      "        u238.append(out[922380])\n",
      "    plt.plot(times, u235, 'ro-', label='U-235')\n",
      "    plt.plot(times, u238, 'ko-', label='U-238')\n",
      "    plt.yscale('log')\n",
      "    plt.xlabel(\"U-235 Half-Lives\")\n",
      "    plt.ylabel(\"Mass Fraction\")\n",
      "    plt.legend(loc=0)"
     ],
     "language": "python",
     "metadata": {
      "slideshow": {
       "slide_type": "skip"
      }
     },
     "outputs": [],
     "prompt_number": 8
    },
    {
     "cell_type": "markdown",
     "metadata": {
      "slideshow": {
       "slide_type": "subslide"
      }
     },
     "source": [
      "#### Decay Curve"
     ]
    },
    {
     "cell_type": "code",
     "collapsed": false,
     "input": [
      "%time storfig()"
     ],
     "language": "python",
     "metadata": {},
     "outputs": [
      {
       "output_type": "stream",
       "stream": "stdout",
       "text": [
        "CPU times: user 52 ms, sys: 0 ns, total: 52 ms\n",
        "Wall time: 51.9 ms\n"
       ]
      },
      {
       "metadata": {},
       "output_type": "display_data",
       "png": "[encoded data removed]",
       "text": [
        "<matplotlib.figure.Figure at 0x44c3f90>"
       ]
      }
     ],
     "prompt_number": 9
    },
    {
     "cell_type": "markdown",
     "metadata": {
      "slideshow": {
       "slide_type": "subslide"
      }
     },
     "source": [
      "#### Reprocessing:"
     ]
    },
    {
     "cell_type": "code",
     "collapsed": false,
     "input": [
      "from bright.reprocess import Reprocess\n",
      "rep = Reprocess({\"U\": 0.999, \"Am\": 0.8}, n=\"my_reprocess\")\n",
      "rep.mat_feed = {922350: 0.045, 922380: 0.955, 952420: 1.0}\n",
      "print rep.calc()"
     ],
     "language": "python",
     "metadata": {
      "slideshow": {
       "slide_type": "-"
      }
     },
     "outputs": [
      {
       "output_type": "stream",
       "stream": "stdout",
       "text": [
        "Material:\n",
        "mass = 1.799\n",
        "density= -1.0\n",
        "atoms per molecule = -1.0\n",
        "-------------------------\n",
        "U235   0.0249888827126\n",
        "U238   0.530319622012\n",
        "Am242  0.444691495275\n"
       ]
      }
     ],
     "prompt_number": 10
    },
    {
     "cell_type": "markdown",
     "metadata": {
      "slideshow": {
       "slide_type": "slide"
      }
     },
     "source": [
      "## This can get much more complicated...\n",
      "\n",
      "However, since all of the interfacing code is automatically generated there is no extra work for the user or developer!"
     ]
    },
    {
     "cell_type": "code",
     "collapsed": false,
     "input": [
      "from bright.reactormg import ReactorMG\n",
      "print \"Multigroup reactors have {0} attributes.\".format(len(dir(ReactorMG))), \n",
      "print \"Here are some of their names:\"\n",
      "print dir(ReactorMG)[::4]"
     ],
     "language": "python",
     "metadata": {},
     "outputs": [
      {
       "output_type": "stream",
       "stream": "stdout",
       "text": [
        "Multigroup reactors have 216 attributes. Here are some of their names:\n",
        "['A_HM_t', 'BUd', 'I', 'K_num', 'MW_fuel_t', 'P_NL', 'S', 'Ti0', '_A_HM_t', '_I', '_K_ord', '_N_clad_it', '_Phi_t', '__delattr__', '__hash__', '__reduce_ex__', '__str__', '_chemical_form_cool', '_fccomp_calc_1', '_fccomp_fccomp_0', '_free_inst', '_m_fuel_it', '_mat_feed_tru', '_mat_prod_lan', '_n_cool_it', '_params_prior_calc', '_reactormg_calc_0', '_reactormg_calc_2', '_reactormg_reactormg_1', '_reactormg_reactormg_3', '_trans_consts', 'batch_average_k', 'bt_s', 'burnup_core', 'calc_criticality', 'calc_params', 'calc_zeta', 'chemical_form_fuel', 'fold_mass_weights', 'k', 'lattice_E_spherical', 'lattice_flag', 'm_cool_it', 'mat_feed_lan', 'mat_prod_act', 'n_clad_it', 'natural_name', 'params_prior_calc', 'phi_t', 'r_void', 'rho_fuel', 'td', 'trans_consts', 'write_hdf5']\n"
       ]
      }
     ],
     "prompt_number": 11
    },
    {
     "cell_type": "markdown",
     "metadata": {
      "slideshow": {
       "slide_type": "slide"
      }
     },
     "source": [
      "## Summary\n",
      "\n",
      "XDress is a tool that: \n",
      "\n",
      "* helps fuel cycle simulator developers create complex agents without scaling fear,\n",
      "* provides an insurance policy against upstream API changes, and\n",
      "* defines a canonical way of resolving the differing assumptions between simulators."
     ]
    },
    {
     "cell_type": "markdown",
     "metadata": {
      "slideshow": {
       "slide_type": "fragment"
      }
     },
     "source": [
      "## Future Work\n",
      "\n",
      "* Bright-to-Cyclus Translator"
     ]
    },
    {
     "cell_type": "markdown",
     "metadata": {
      "slideshow": {
       "slide_type": "slide"
      }
     },
     "source": [
      "## Questions"
     ]
    },
    {
     "cell_type": "code",
     "collapsed": false,
     "input": [
      "!make"
     ],
     "language": "python",
     "metadata": {
      "slideshow": {
       "slide_type": "skip"
      }
     },
     "outputs": [
      {
       "output_type": "stream",
       "stream": "stdout",
       "text": [
        "#cp -r /reveal . \r\n",
        "#rm -rf reveal/.git* \r\n",
        "#mkdir -p js \r\n",
        "#cp /js/mathjax-onload.js js\r\n",
        "ipython nbconvert --to slides scopatz_global2013.ipynb \r\n"
       ]
      },
      {
       "output_type": "stream",
       "stream": "stdout",
       "text": [
        "[NbConvertApp] Using existing profile dir: u'/home/scopatz/.config/ipython/profile_default'\r\n",
        "[NbConvertApp] Converting notebook scopatz_global2013.ipynb to slides\r\n",
        "[NbConvertApp] Support files will be in scopatz_global2013_files/\r\n"
       ]
      },
      {
       "output_type": "stream",
       "stream": "stdout",
       "text": [
        "[NbConvertApp] Loaded template slides_reveal.tpl\r\n"
       ]
      },
      {
       "output_type": "stream",
       "stream": "stdout",
       "text": [
        "[NbConvertApp] Writing 262079 bytes to scopatz_global2013.slides.html\r\n"
       ]
      },
      {
       "output_type": "stream",
       "stream": "stdout",
       "text": [
        "cp classy.css reveal.js/css/theme/ \r\n",
        "sed -i 's:reveal.js/css/theme/simple.css:reveal.js/css/theme/classy.css:' scopatz_global2013.slides.html \r\n",
        "sed -i 's:class=\"fragment\" class=\"text_cell_render:class=\"fragment text_cell_render:' scopatz_global2013.slides.html \r\n",
        "sed -i 's/.rendered_html ul{list-style:disc;margin:1em 2em;}/.rendered_html ul{list-style:disc;margin:0em 2em;}/' scopatz_global2013.slides.html \r\n"
       ]
      },
      {
       "output_type": "stream",
       "stream": "stdout",
       "text": [
        "sed -i '/<\\!-- Social buttons -->/,/<\\!-- End of social buttons -->/d' scopatz_global2013.slides.html \r\n",
        "#sed -i 's/background: #3F3F3F;/background: #4A363D;/' reveal.js/lib/css/zenburn.css \r\n"
       ]
      }
     ],
     "prompt_number": 14
    }
   ],
   "metadata": {}
  }
 ]
}